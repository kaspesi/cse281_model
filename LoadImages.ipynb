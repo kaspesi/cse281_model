{
 "cells": [
  {
   "cell_type": "code",
   "execution_count": 1,
   "metadata": {},
   "outputs": [
    {
     "name": "stdout",
     "output_type": "stream",
     "text": [
      "Requirement already satisfied: aiohttp in /home/ec2-user/anaconda3/envs/mxnet_latest_p37/lib/python3.7/site-packages (3.7.3)\n",
      "Requirement already satisfied: async-timeout<4.0,>=3.0 in /home/ec2-user/anaconda3/envs/mxnet_latest_p37/lib/python3.7/site-packages (from aiohttp) (3.0.1)\n",
      "Requirement already satisfied: attrs>=17.3.0 in /home/ec2-user/anaconda3/envs/mxnet_latest_p37/lib/python3.7/site-packages (from aiohttp) (19.3.0)\n",
      "Requirement already satisfied: yarl<2.0,>=1.0 in /home/ec2-user/anaconda3/envs/mxnet_latest_p37/lib/python3.7/site-packages (from aiohttp) (1.6.3)\n",
      "Requirement already satisfied: typing-extensions>=3.6.5 in /home/ec2-user/anaconda3/envs/mxnet_latest_p37/lib/python3.7/site-packages (from aiohttp) (3.7.4.3)\n",
      "Requirement already satisfied: multidict<7.0,>=4.5 in /home/ec2-user/anaconda3/envs/mxnet_latest_p37/lib/python3.7/site-packages (from aiohttp) (5.0.2)\n",
      "Requirement already satisfied: chardet<4.0,>=2.0 in /home/ec2-user/anaconda3/envs/mxnet_latest_p37/lib/python3.7/site-packages (from aiohttp) (3.0.4)\n",
      "Requirement already satisfied: idna>=2.0 in /home/ec2-user/anaconda3/envs/mxnet_latest_p37/lib/python3.7/site-packages (from yarl<2.0,>=1.0->aiohttp) (2.8)\n",
      "\u001b[33mWARNING: You are using pip version 20.0.2; however, version 20.3 is available.\n",
      "You should consider upgrading via the '/home/ec2-user/anaconda3/envs/mxnet_latest_p37/bin/python -m pip install --upgrade pip' command.\u001b[0m\n",
      "Requirement already satisfied: aiofiles in /home/ec2-user/anaconda3/envs/mxnet_latest_p37/lib/python3.7/site-packages (0.6.0)\n",
      "\u001b[33mWARNING: You are using pip version 20.0.2; however, version 20.3 is available.\n",
      "You should consider upgrading via the '/home/ec2-user/anaconda3/envs/mxnet_latest_p37/bin/python -m pip install --upgrade pip' command.\u001b[0m\n"
     ]
    }
   ],
   "source": [
    "!pip install aiohttp\n",
    "!pip install aiofiles"
   ]
  },
  {
   "cell_type": "code",
   "execution_count": null,
   "metadata": {},
   "outputs": [
    {
     "data": {
      "text/plain": [
       "'0.85%'"
      ]
     },
     "metadata": {},
     "output_type": "display_data"
    }
   ],
   "source": [
    "import boto3\n",
    "import os\n",
    "import sagemaker\n",
    "import numpy as np\n",
    "import urllib\n",
    "import cv2\n",
    "import csv\n",
    "import ssl\n",
    "import asyncio\n",
    "import aiohttp\n",
    "import aiofiles\n",
    "import aiofiles.os\n",
    "from IPython.display import display, clear_output\n",
    "from sklearn.model_selection import train_test_split\n",
    "import asyncio\n",
    "s3 = boto3.resource('s3')\n",
    "csv_bucket = s3.Bucket('sagemaker-hotels50k-train') # example: energy_market_procesing\n",
    "csv_obj = csv_bucket.Object(key='train/data-250k.csv') # example: market/zone1/data.csv\n",
    "\n",
    "def return_response(url):\n",
    "    return urllib.request.urlopen(url).read()\n",
    "\n",
    "\n",
    "s3_client = boto3.client('s3')\n",
    "data_bucket = 'hotel50k-data'\n",
    "prefix = 'train'\n",
    "# key = 'feature-vectors'\n",
    "\n",
    "\n",
    "# get the object\n",
    "response = csv_obj.get()\n",
    "# read the contents of the file\n",
    "lines = response['Body'].read()\n",
    "lines = lines.decode('utf-8')\n",
    "lines = lines.split()\n",
    "# now iterate over those lines\n",
    "iterator = 0\n",
    "labels = []\n",
    "pixelArray = []\n",
    "\n",
    "#To ignore SSL\n",
    "ctx = ssl.create_default_context()\n",
    "ctx.check_hostname = False\n",
    "ctx.verify_mode = ssl.CERT_NONE\n",
    "counter = 0;\n",
    "total_rows = len(list(csv.reader(lines)))-1\n",
    "\n",
    "\n",
    "async def fetch(session, row):\n",
    "    async with session.get(str(row[2])) as resp:\n",
    "        if resp.status == 200:\n",
    "            filename = str(row[0])+'.jpg'\n",
    "            f = await aiofiles.open(filename, mode='wb')\n",
    "            await f.write(await resp.read()) \n",
    "            object_name = os.path.join('hotel_classes', str(row[1]), filename)\n",
    "            result = s3_client.upload_file(filename, 'hotel50k-data', object_name)\n",
    "            await f.close()\n",
    "            await aiofiles.os.remove(filename)\n",
    "#             counter+=1;\n",
    "\n",
    "\n",
    "async def getData():\n",
    "    global counter\n",
    "    async with aiohttp.ClientSession() as session:\n",
    "        csv_reader = csv.reader(lines)\n",
    "        next(csv_reader)\n",
    "#         tasks = [fetch(session, row) for row in csv_reader]\n",
    "        tasks = []\n",
    "        for row in csv_reader:\n",
    "            tasks.append(fetch(session,row))\n",
    "            counter+=1;\n",
    "            if counter % 500 == 0:\n",
    "                exceptions = await asyncio.gather(*tasks, return_exceptions=True)\n",
    "                print(exceptions)\n",
    "                tasks = []\n",
    "                clear_output(wait=True)\n",
    "                display(str(round(counter/total_rows, 2))+'%')\n",
    "        session.close()\n",
    "        \n",
    "await getData()\n",
    "\n",
    "\n",
    "print('Done')\n"
   ]
  },
  {
   "cell_type": "code",
   "execution_count": 17,
   "metadata": {},
   "outputs": [
    {
     "name": "stdout",
     "output_type": "stream",
     "text": [
      "ConvertImages.ipynb\n",
      "Image-classification-fulltraining-elastic-inference.ipynb\n",
      "Image-classification-fulltraining-highlevel.ipynb\n",
      "Image-classification-fulltraining.ipynb\n",
      "Image-classification-incremental-training-highlevel.ipynb\n",
      "Image-classification-lst-format-highlevel.ipynb\n",
      "Image-classification-lst-format.ipynb\n",
      "Image-classification-transfer-learning-highlevel.ipynb\n",
      "Image-classification-transfer-learning.ipynb\n",
      "LoadImages.ipynb\n"
     ]
    }
   ],
   "source": [
    "!ls"
   ]
  },
  {
   "cell_type": "code",
   "execution_count": null,
   "metadata": {},
   "outputs": [],
   "source": []
  },
  {
   "cell_type": "code",
   "execution_count": null,
   "metadata": {},
   "outputs": [],
   "source": []
  },
  {
   "cell_type": "code",
   "execution_count": null,
   "metadata": {},
   "outputs": [],
   "source": []
  },
  {
   "cell_type": "code",
   "execution_count": null,
   "metadata": {},
   "outputs": [],
   "source": []
  }
 ],
 "metadata": {
  "kernelspec": {
   "display_name": "conda_mxnet_latest_p37",
   "language": "python",
   "name": "conda_mxnet_latest_p37"
  },
  "language_info": {
   "codemirror_mode": {
    "name": "ipython",
    "version": 3
   },
   "file_extension": ".py",
   "mimetype": "text/x-python",
   "name": "python",
   "nbconvert_exporter": "python",
   "pygments_lexer": "ipython3",
   "version": "3.7.6"
  }
 },
 "nbformat": 4,
 "nbformat_minor": 4
}
